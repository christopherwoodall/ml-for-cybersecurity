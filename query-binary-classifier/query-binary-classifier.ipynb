{
 "cells": [
  {
   "attachments": {},
   "cell_type": "markdown",
   "metadata": {},
   "source": [
    "# URL Query Binary Classifier [![Open In Colab](https://colab.research.google.com/assets/colab-badge.svg)](https://colab.research.google.com/github/christopherwoodall/ml-for-cybersecurity/blob/main/query-binary-classifier/query-binary-classifier.ipynb)\n",
    "## Machine Learning for Cybersecurity\n",
    "\n",
    "\n",
    "In this notebook we will go over creating a very simple URL classifier. In order to classify a URL as `BENIGN` or `MALICIOUS` we will be using LR(Logistic Regression) as it requires a single input and returns `0` or `1`. Another application of this type of model includes spam filtering!\n",
    "\n",
    "Check out the Github repo [here](https://github.com/christopherwoodall/ml-for-cybersecurity/tree/main/query-binary-classifier)"
   ]
  },
  {
   "cell_type": "code",
   "execution_count": null,
   "metadata": {},
   "outputs": [],
   "source": [
    "%%bash\n",
    "# Execute this cell if you are running in a remote jupyter environment; such as Google Colab or Kaggle Notebooks.\n",
    "\n",
    "DATASET_DIR=\"./datasets\"\n",
    "\n",
    "if [ ! -d \"${DATASET_DIR}\" ]; then\n",
    "  mkdir -p \"${DATASET_DIR}\"\n",
    "  wget \"https://github.com/christopherwoodall/ml-for-cybersecurity/blob/main/query-binary-classifier/datasets/benign_urls.json?raw=true\" -O \"${DATASET_DIR}/benign_urls.json\"\n",
    "  wget \"https://github.com/christopherwoodall/ml-for-cybersecurity/blob/main/query-binary-classifier/datasets/malicious_urls.json?raw=true\" -O \"${DATASET_DIR}/malicious_urls.json\"\n",
    "  wget \"https://github.com/christopherwoodall/ml-for-cybersecurity/blob/main/query-binary-classifier/datasets/url_classifier.pkl?raw=true\" -O \"${DATASET_DIR}/url_classifier.pkl\"\n",
    "  wget \"https://github.com/christopherwoodall/ml-for-cybersecurity/blob/main/query-binary-classifier/datasets/grid_classifier.pkl?raw=true\" -O \"${DATASET_DIR}/grid_classifier.pkl\"\n",
    "  pip install matplotlib seaborn sklearn\n",
    "fi"
   ]
  },
  {
   "attachments": {},
   "cell_type": "markdown",
   "metadata": {},
   "source": [
    "# Setup"
   ]
  },
  {
   "cell_type": "code",
   "execution_count": 20,
   "metadata": {},
   "outputs": [
    {
     "name": "stdout",
     "output_type": "stream",
     "text": [
      "Benign Examples:\t1294531\n",
      "Malicious Examples:\t38190\n"
     ]
    }
   ],
   "source": [
    "import json\n",
    "import urllib.parse\n",
    "\n",
    "import numpy\n",
    "import pandas\n",
    "import seaborn\n",
    "\n",
    "import matplotlib.pyplot as plt\n",
    "\n",
    "from pathlib import Path\n",
    "\n",
    "\n",
    "project_path   = Path.cwd()\n",
    "datasets_path  = Path(project_path / \"datasets\")\n",
    "benign_path    = Path(datasets_path / \"benign_urls.json\")\n",
    "malicious_path = Path(datasets_path / \"malicious_urls.json\")\n",
    "\n",
    "benign_data    = json.loads(benign_path.read_text(encoding=\"utf8\"))\n",
    "malicious_data = json.loads(malicious_path.read_text(encoding=\"utf8\"))\n",
    "all_data       = benign_data + malicious_data\n",
    "\n",
    "\n",
    "print(f\"Benign Examples:\\t{len(benign_data)}\")\n",
    "print(f\"Malicious Examples:\\t{len(malicious_data)}\")"
   ]
  },
  {
   "attachments": {},
   "cell_type": "markdown",
   "metadata": {},
   "source": [
    "# Splitting Data\n",
    "\n",
    "Now we are going to split the data using `sklearn`'s `train_test_split()` function.\n"
   ]
  },
  {
   "cell_type": "code",
   "execution_count": 21,
   "metadata": {},
   "outputs": [],
   "source": [
    "from sklearn.feature_extraction.text import TfidfVectorizer\n",
    "from sklearn.model_selection import train_test_split\n",
    "\n",
    "\n",
    "vectorizer = TfidfVectorizer(min_df=0.0, analyzer=\"char\", sublinear_tf=True, ngram_range=(1,3))\n",
    "\n",
    "x           = vectorizer.fit_transform(all_data)\n",
    "y_malicious = [1] * len(benign_data)\n",
    "y_benign    = [0] * len(malicious_data)\n",
    "y           = y_malicious + y_benign\n",
    "\n",
    "x_train, x_test, y_train, y_test = train_test_split(x, y, test_size=0.25, random_state=16)\n"
   ]
  },
  {
   "attachments": {},
   "cell_type": "markdown",
   "metadata": {},
   "source": [
    "# Classifier\n",
    "\n",
    "Next let's create a Logistic Regression (aka logit, MaxEnt) classifier; check out the docs [here](https://scikit-learn.org/stable/modules/generated/sklearn.linear_model.LogisticRegression.html)."
   ]
  },
  {
   "cell_type": "code",
   "execution_count": 22,
   "metadata": {},
   "outputs": [],
   "source": [
    "from sklearn.linear_model import LogisticRegression\n",
    "\n",
    "\n",
    "def new_model(x_train, y_train):\n",
    "  model = LogisticRegression(\n",
    "    class_weight = {1: 2 * len(benign_data) / len(malicious_data), 0: 1.0},\n",
    "    max_iter     = 1000,\n",
    "  )\n",
    "  return train_model(model, x_train, y_train)\n",
    "  \n",
    "\n",
    "def load_model(filename=\"./datasets/url_classifier.pkl\"):\n",
    "  return __import__(\"pickle\").load(open(filename, 'rb'))\n",
    "\n",
    "\n",
    "def save_model(model, filename=\"./datasets/url_classifier.pkl\"):\n",
    "  __import__(\"pickle\").dump(model, open(filename, 'wb'))\n",
    "  return model\n",
    "\n",
    "\n",
    "def train_model(model, x_train, y_train):\n",
    "  return save_model(model.fit(x_train, y_train))\n",
    "\n",
    "\n",
    "classifier = load_model() if Path(\"./datasets/url_classifier.pkl\").exists() else new_model(x_train, y_train)\n"
   ]
  },
  {
   "attachments": {},
   "cell_type": "markdown",
   "metadata": {},
   "source": [
    "# Predictions\n",
    "\n",
    "Now for the fun part. Below are a list of URLs and their categorization(benign or malicious)."
   ]
  },
  {
   "cell_type": "code",
   "execution_count": 25,
   "metadata": {},
   "outputs": [
    {
     "name": "stdout",
     "output_type": "stream",
     "text": [
      "MALICIOUS | email.aspx=\"><svg onclick=alert(1)\n",
      "MALICIOUS | \"><svg onload=confirm(1)>\n",
      "MALICIOUS | example/test/q=<svg onload=confirm('faizan')>\n",
      "BENIGN | login.php=SELECT password from admin\n",
      "MALICIOUS | example/test/q=<script>alert(1)</script>\n",
      "MALICIOUS | <img src=xx onerror=confirm(1)>\n",
      "BENIGN | facebook.com/post\n",
      "BENIGN | comment.php=foooooooooooooooobarbaaz\n",
      "BENIGN | example/test.php\n",
      "BENIGN | contact.php=foo/bar\n",
      "MALICIOUS | q=../etc/passwd\n",
      "BENIGN | ?google/images\n",
      "MALICIOUS | example/test/q=<a href=\"javascript:confirm(1)>\n",
      "MALICIOUS | contact.php=\"';/><script>alert(1)</script>\n",
      "MALICIOUS | fsecurify/q=<svg onerror=confirm('fsecurify')>\n",
      "BENIGN | contact/javascript:confirm(1)\n"
     ]
    }
   ],
   "source": [
    "test_data = [\n",
    "  \"facebook.com/post\",                                # BENIGN\n",
    "  \"example/test.php\",                                 # BENIGN\n",
    "  \"?google/images\",                                   # BENIGN\n",
    "  \"contact.php=foo/bar\",                              # BENIGN\n",
    "  \"comment.php=foooooooooooooooobarbaaz\",             # BENIGN\n",
    "  \"contact.php=\\\"';/><script>alert(1)</script>\",      # MALICIOUS\n",
    "  \"login.php=SELECT password from admin\",             # MALICIOUS\n",
    "  \"\\\"><svg onload=confirm(1)>\",                       # MALICIOUS\n",
    "  \"q=../etc/passwd\",                                  # MALICIOUS\n",
    "  \"contact/javascript:confirm(1)\",                    # MALICIOUS\n",
    "  \"email.aspx=\\\"><svg onclick=alert(1)\",              # MALICIOUS\n",
    "  \"<img src=xx onerror=confirm(1)>\",                  # MALICIOUS\n",
    "  \"example/test/q=<script>alert(1)</script>\",         # MALICIOUS\n",
    "  \"example/test/q=<svg onload=confirm('faizan')>\",    # MALICIOUS\n",
    "  \"fsecurify/q=<svg onerror=confirm('fsecurify')>\",   # MALICIOUS\n",
    "  \"example/test/q=<a href=\\\"javascript:confirm(1)>\",  # MALICIOUS\n",
    "]\n",
    "__import__(\"random\").shuffle(test_data)\n",
    "\n",
    "for url in test_data:\n",
    "  prediction = 'BENIGN' if classifier.predict(vectorizer.transform([url])) else 'MALICIOUS'\n",
    "  print(f\"{prediction} | {url}\")\n"
   ]
  },
  {
   "attachments": {},
   "cell_type": "markdown",
   "metadata": {},
   "source": [
    "# Confusion Matrix\n",
    "\n",
    "This is a table used to visualize model *correctness*."
   ]
  },
  {
   "cell_type": "code",
   "execution_count": 27,
   "metadata": {},
   "outputs": [
    {
     "name": "stdout",
     "output_type": "stream",
     "text": [
      "Accuracy: 0.9986223704232834\n",
      "Classification report:\n",
      "              precision    recall  f1-score   support\n",
      "\n",
      "   MALICIOUS       1.00      0.95      0.98      9450\n",
      "      BENIGN       1.00      1.00      1.00    323731\n",
      "\n",
      "    accuracy                           1.00    333181\n",
      "   macro avg       1.00      0.98      0.99    333181\n",
      "weighted avg       1.00      1.00      1.00    333181\n",
      "\n",
      "Prediction probabilities:\n",
      "[[1.83602212e-05 9.99981640e-01]\n",
      " [5.64511855e-06 9.99994355e-01]\n",
      " [2.98669203e-05 9.99970133e-01]\n",
      " ...\n",
      " [6.84371076e-05 9.99931563e-01]\n",
      " [1.16911297e-06 9.99998831e-01]\n",
      " [2.03992142e-06 9.99997960e-01]]\n"
     ]
    },
    {
     "data": {
      "image/png": "[encoded data removed]",
      "text/plain": [
       "<Figure size 640x480 with 2 Axes>"
      ]
     },
     "metadata": {},
     "output_type": "display_data"
    }
   ],
   "source": [
    "from sklearn.metrics import classification_report, confusion_matrix\n",
    "\n",
    "\n",
    "class_names  = [0, 1]\n",
    "target_names = ['MALICIOUS', 'BENIGN']\n",
    "\n",
    "y_pred = classifier.predict(x_test)\n",
    "\n",
    "cnf_matrix = confusion_matrix(y_test, y_pred)\n",
    "tick_marks = numpy.arange(len(class_names))\n",
    "fig, ax    = plt.subplots()\n",
    "\n",
    "seaborn.heatmap(pandas.DataFrame(cnf_matrix), annot=True, cmap=\"YlGnBu\" ,fmt='g')\n",
    "ax.xaxis.set_label_position(\"top\")\n",
    "plt.tight_layout()\n",
    "plt.xticks(tick_marks, class_names)\n",
    "plt.yticks(tick_marks, class_names)\n",
    "plt.title('Confusion matrix', y=1.1)\n",
    "plt.ylabel('Actual label')\n",
    "plt.xlabel('Predicted label')\n",
    "\n",
    "print(f\"Accuracy: {classifier.score(x_test, y_test)}\")\n",
    "print(\"Classification report:\")\n",
    "print(classification_report(y_test, y_pred, target_names=target_names))\n",
    "print(\"Prediction probabilities:\")\n",
    "print(classifier.predict_proba(x_test))\n",
    "\n",
    "plt.show()\n"
   ]
  },
  {
   "attachments": {},
   "cell_type": "markdown",
   "metadata": {},
   "source": [
    "# Improving the Model with Grid Search\n",
    "\n",
    "Check out the ROC(Receiver Operating Characteristic) Curve graphs below."
   ]
  },
  {
   "cell_type": "code",
   "execution_count": 34,
   "metadata": {},
   "outputs": [
    {
     "name": "stdout",
     "output_type": "stream",
     "text": [
      "Fitting 2 folds for each of 6 candidates, totalling 12 fits\n"
     ]
    }
   ],
   "source": [
    "from sklearn.model_selection import GridSearchCV\n",
    "\n",
    "\n",
    "grid_model_path = Path(\"./datasets/grid_classifier.pkl\")\n",
    "grid_params = {\n",
    "  \"max_iter\":     [300, 600, 1000],\n",
    "  \"solver\":       [\"newton-cg\", \"lbfgs\", \"liblinear\", 'sag', 'saga'],\n",
    "  \"class_weight\": [{1: 2 * len(benign_data) / len(malicious_data), 0: 1.0},]\n",
    "}\n",
    "\n",
    "\n",
    "if grid_model_path.exists():\n",
    "  grid = __import__(\"pickle\").load(open(grid_model_path, 'rb'))\n",
    "else:\n",
    "  grid = GridSearchCV(estimator=LogisticRegression(random_state=42), param_grid=grid_params, verbose=1, cv=3, n_jobs=-1)\n",
    "  grid.fit(x_train, y_train)\n",
    "  __import__(\"pickle\").dump(grid, open(grid_model_path, 'wb'))\n"
   ]
  },
  {
   "cell_type": "code",
   "execution_count": 35,
   "metadata": {},
   "outputs": [
    {
     "data": {
      "image/png": "[encoded data removed]",
      "text/plain": [
       "<Figure size 640x480 with 1 Axes>"
      ]
     },
     "metadata": {},
     "output_type": "display_data"
    },
    {
     "data": {
      "image/png": "[encoded data removed]",
      "text/plain": [
       "<Figure size 640x480 with 1 Axes>"
      ]
     },
     "metadata": {},
     "output_type": "display_data"
    }
   ],
   "source": [
    "import sklearn\n",
    "\n",
    "\n",
    "def show_roc_curve(classifier, x_test, y_test):\n",
    "  y_pred_proba = classifier.predict_proba(x_test)[::,1]\n",
    "  fpr, tpr, _ = sklearn.metrics.roc_curve(y_test, y_pred_proba)\n",
    "  auc = sklearn.metrics.roc_auc_score(y_test, y_pred_proba)\n",
    "  plt.plot(fpr,tpr,label=\"data 1, auc=\"+str(auc))\n",
    "  plt.legend(loc=4)\n",
    "  plt.show()\n",
    "\n",
    "\n",
    "show_roc_curve(grid, x_test, y_test)\n",
    "show_roc_curve(classifier, x_test, y_test)"
   ]
  },
  {
   "attachments": {},
   "cell_type": "markdown",
   "metadata": {},
   "source": [
    "\n",
    "## Datasets\n",
    "\n",
    "- [HTTP DATASET CSIC 2010](https://www.isi.csic.es/dataset/)[src](https://www.kaggle.com/datasets/ispangler/csic-2010-web-application-attacks) - Developed at the Information Security Institute of CSIC(Spanish Research National Council), the dataset ccontains thousands of automatically generated web request.\n",
    "- [MACCDC2012](http://www.secrepo.com/) - Dataset containing everything from scanning/recon through explotation as well as some c99 shell traffic. Roughly 22694356 total connections.\n",
    "- [fuzzdb](https://github.com/fuzzdb-project/fuzzdb) - The first and most comprehensive open dictionary of fault injection patterns, predictable resource locations, and regex for matching server responses.\n",
    "\n",
    "\n",
    "## Resources\n",
    "- [Binary Classification with Logistic Regression](https://python.plainenglish.io/binary-classification-with-logistic-regression-12a623ca759b)\n",
    "- [Spam filter github project.ipynb ](https://gist.github.com/Matheesan2113/95afe46cff7ce49a2602e9ec0af4db5a)\n",
    "\n",
    "## Acknowledgements\n",
    "\n",
    "This project is a resurrection of Faizan Ahmad's [fWaf](http://web.archive.org/web/20170706222016/http://fsecurify.com/fwaf-machine-learning-driven-web-application-firewall/), please go check out the Github repo [here](https://github.com/faizann24/Fwaf-Machine-Learning-driven-Web-Application-Firewall)!\n"
   ]
  }
 ],
 "metadata": {
  "kernelspec": {
   "display_name": "Python 3",
   "language": "python",
   "name": "python3"
  },
  "language_info": {
   "codemirror_mode": {
    "name": "ipython",
    "version": 3
   },
   "file_extension": ".py",
   "mimetype": "text/x-python",
   "name": "python",
   "nbconvert_exporter": "python",
   "pygments_lexer": "ipython3",
   "version": "3.10.6"
  },
  "orig_nbformat": 4,
  "vscode": {
   "interpreter": {
    "hash": "9337a79df3e5d869f0c5777e0d2b1209a728c6a52c1d44e22a85de3e5a3843fd"
   }
  }
 },
 "nbformat": 4,
 "nbformat_minor": 2
}
